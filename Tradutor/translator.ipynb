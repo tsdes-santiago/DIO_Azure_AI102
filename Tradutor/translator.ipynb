{
 "cells": [
  {
   "cell_type": "code",
   "execution_count": 12,
   "metadata": {},
   "outputs": [
    {
     "data": {
      "text/plain": [
       "True"
      ]
     },
     "execution_count": 12,
     "metadata": {},
     "output_type": "execute_result"
    }
   ],
   "source": [
    "import requests, uuid, json\n",
    "from dotenv import load_dotenv\n",
    "import os\n",
    "\n",
    "load_dotenv()"
   ]
  },
  {
   "cell_type": "code",
   "execution_count": 13,
   "metadata": {},
   "outputs": [],
   "source": [
    "# Add your key and endpoint\n",
    "key = os.environ.get('API_KEY')\n",
    "endpoint = os.environ.get('TEXT_ENDPOINT')\n",
    "# location, also known as region.\n",
    "# required if you're using a multi-service or regional (not global) resource. It can be found in the Azure portal on the Keys and Endpoint page.\n",
    "location = os.environ.get('LOCATION')\n"
   ]
  },
  {
   "cell_type": "code",
   "execution_count": 17,
   "metadata": {},
   "outputs": [
    {
     "name": "stdout",
     "output_type": "stream",
     "text": [
      "[\n",
      "    {\n",
      "        \"translations\": [\n",
      "            {\n",
      "                \"text\": \"Eu realmente gostaria de dirigir seu carro ao redor do quarteirão algumas vezes!\",\n",
      "                \"to\": \"pt\"\n",
      "            }\n",
      "        ]\n",
      "    }\n",
      "]\n"
     ]
    }
   ],
   "source": [
    "\n",
    "path = '/translate'\n",
    "constructed_url = endpoint + path\n",
    "\n",
    "params = {\n",
    "    'api-version': '3.0',\n",
    "    'from': 'en',\n",
    "    'to': ['pt-br']\n",
    "}\n",
    "\n",
    "headers = {\n",
    "    'Ocp-Apim-Subscription-Key': key,\n",
    "    # location required if you're using a multi-service or regional (not global) resource.\n",
    "    'Ocp-Apim-Subscription-Region': location,\n",
    "    'Content-type': 'application/json',\n",
    "    'X-ClientTraceId': str(uuid.uuid4())\n",
    "}\n",
    "\n",
    "# You can pass more than one object in body.\n",
    "body = [{\n",
    "    'text': 'I would really like to drive your car around the block a few times!'\n",
    "}]\n",
    "\n",
    "request = requests.post(constructed_url, params=params, headers=headers, json=body)\n",
    "response = request.json()\n",
    "\n",
    "print(json.dumps(response, sort_keys=True, ensure_ascii=False, indent=4, separators=(',', ': ')))"
   ]
  },
  {
   "cell_type": "code",
   "execution_count": 18,
   "metadata": {},
   "outputs": [
    {
     "name": "stdout",
     "output_type": "stream",
     "text": [
      "Eu realmente gostaria de dirigir seu carro ao redor do quarteirão algumas vezes!\n"
     ]
    }
   ],
   "source": [
    "print(response[0]['translations'][0]['text'])"
   ]
  },
  {
   "cell_type": "code",
   "execution_count": 19,
   "metadata": {},
   "outputs": [],
   "source": [
    "def text_translator(text):\n",
    "    \n",
    "    path = '/translate'\n",
    "    endpoint = os.environ.get('TEXT_ENDPOINT')\n",
    "    constructed_url = endpoint + path\n",
    "\n",
    "    params = {\n",
    "        'api-version': '3.0',\n",
    "        'from': 'en',\n",
    "        'to': ['pt-br']\n",
    "    }\n",
    "\n",
    "    headers = {\n",
    "        'Ocp-Apim-Subscription-Key': key,\n",
    "        # location required if you're using a multi-service or regional (not global) resource.\n",
    "        'Ocp-Apim-Subscription-Region': location,\n",
    "        'Content-type': 'application/json',\n",
    "        'X-ClientTraceId': str(uuid.uuid4())\n",
    "    }\n",
    "\n",
    "    # You can pass more than one object in body.\n",
    "    body = [{\n",
    "        'text': text\n",
    "    }]\n",
    "\n",
    "    request = requests.post(constructed_url, params=params, headers=headers, json=body)\n",
    "    response = request.json()\n",
    "\n",
    "    return response[0]['translations'][0]['text']"
   ]
  },
  {
   "cell_type": "code",
   "execution_count": 20,
   "metadata": {},
   "outputs": [],
   "source": [
    "from bs4 import BeautifulSoup"
   ]
  },
  {
   "cell_type": "code",
   "execution_count": 35,
   "metadata": {},
   "outputs": [],
   "source": [
    "url = \"https://dev.to/techpulse55/unlocking-quickpix-ais-potential-features-pricing-and-performance-review-3mjk\"\n",
    "\n",
    "html = requests.get(url)\n",
    "soup = BeautifulSoup(html.content, 'html.parser')"
   ]
  },
  {
   "cell_type": "code",
   "execution_count": 37,
   "metadata": {},
   "outputs": [
    {
     "data": {
      "text/plain": [
       "\"\\n              Unlocking Quickpix AI's Potential: Features, Pricing, and Performance Review\\n            \""
      ]
     },
     "execution_count": 37,
     "metadata": {},
     "output_type": "execute_result"
    }
   ],
   "source": [
    "soup.find_all('h1')[0].text"
   ]
  },
  {
   "cell_type": "code",
   "execution_count": 54,
   "metadata": {},
   "outputs": [
    {
     "name": "stdout",
     "output_type": "stream",
     "text": [
      "\n",
      "              Unlocking Quickpix AI's Potential: Features, Pricing, and Performance Review\n",
      "            \n"
     ]
    }
   ],
   "source": [
    "print(soup.main.header.h1.text)"
   ]
  },
  {
   "cell_type": "code",
   "execution_count": null,
   "metadata": {},
   "outputs": [],
   "source": [
    "article_text = soup.main.find_all('div', {'class': 'crayons-article__body'})[0].text"
   ]
  },
  {
   "cell_type": "code",
   "execution_count": 72,
   "metadata": {},
   "outputs": [
    {
     "data": {
      "text/plain": [
       "\"\\nUnlocking Quickpix AI's Potential: Features, Pricing, and Performance Review\\n\\nEver wondered if Quickpix AI is worth the hype?  \\nMaybe you're juggling too many tools to create killer designs.  \\nOr you're stuck with expensive subscriptions that barely deliver.  \\nLet’s break it down.  \\nQuickpix AI promises to simplify design, cut costs, and speed up creative workflows.\\nBut does it really deliver on features, pricing, and performance?  \\nLet’s unlock the potential.  \\n\\n\\n\\n\\nWhat is Quickpix AI?\\n\\nQuickpix AI is an AI-powered design tool built to streamline content creation.  \\nIt’s not just another design platform; it uses machine learning to automate tasks.  \\nThink faster templates, instant photo enhancements, and tools that work for beginners and pros alike.  \\nIt’s ideal for content creators, small businesses, and solopreneurs who need speed without compromising quality.  \\n\\n\\n\\n\\nCore Features of Quickpix AI\\n\\nWhat makes Quickpix AI stand out?  \\nHere are the features that caught my eye:  \\n\\n\\n\\n1. Smart Templates\\n\\nPre-designed templates that adapt to your content.\\nPerfect for creating Instagram posts, YouTube thumbnails, or ad creatives in minutes.\\nNo need to mess with dimensions or alignment – the AI handles it.  \\n\\n\\n\\n2. Instant Image Enhancements\\n\\nUpload a photo, and Quickpix AI works its magic.\\nIt adjusts brightness, removes backgrounds, and sharpens images automatically.\\nSaves you hours compared to manual editing.  \\n\\n\\n\\n3. Integration-Friendly\\n\\nQuickpix AI plugs into tools like WordPress, Shopify, and Google Drive.\\nYou can create and upload assets directly without jumping between platforms.  \\n\\n\\n\\n4. AI-Driven Suggestions\\n\\nStuck for ideas?\\nQuickpix AI suggests designs based on your goals, like engagement or sales.  \\n\\n\\n\\n\\nQuickpix AI Pricing Breakdown\\n\\nPricing can make or break a tool, right?\\nHere’s what Quickpix AI offers:  \\n\\n\\n\\nFree Plan\\n\\nGreat for trying the basics.\\nYou get limited templates and 5 AI actions per month.  \\n\\n\\n\\nPro Plan (£15/month)\\n\\nUnlimited AI actions, priority access to new features, and full customisation.\\nIdeal if you’re a content creator or freelancer.  \\n\\n\\n\\nEnterprise Plan (Custom Pricing)\\n\\nFor businesses running big campaigns or multiple accounts.\\nIncludes team collaboration and API access.  \\n\\n\\n\\nWhy the Pricing Works\\n\\nMost competitors charge double for similar features.\\nQuickpix AI packs value into its lower tiers, making it beginner-friendly.  \\n\\n\\n\\n\\nPerformance Review: How Quickpix AI Stacks Up\\n\\nLet’s talk performance.  \\n\\n\\n\\nSpeed\\n\\nTasks that took me 20 minutes on other platforms?\\nQuickpix AI handled them in 5.  \\n\\n\\n\\nQuality\\n\\nThe image enhancement tool is top-notch.\\nSharper, cleaner visuals every time.  \\n\\n\\n\\nEase of Use\\n\\nThe interface is clean and intuitive.\\nEven if you’re tech-phobic, you’ll get the hang of it quickly.  \\n\\n\\n\\nReliability\\n\\nNo crashes, no lag, and no frustrating bugs.\\nIt works as advertised – every time.  \\n\\n\\n\\n\\nWho Should Use Quickpix AI?\\n\\nThis tool isn’t for everyone.  \\nBut if you tick any of these boxes, it’s worth checking out:  \\n\\n\\nContent Creators: For fast, high-quality visuals.\\n\\n\\nSmall Businesses: Cut costs by avoiding expensive designers.\\n\\n\\nMarketers: Create scroll-stopping ads in minutes.\\n\\n\\nFreelancers: Save time on client work without sacrificing quality.\\n\\n\\n\\n\\n\\n\\nPros and Cons\\n\\nLet’s keep it real.  \\n\\n\\n\\nPros\\n\\n\\nAffordable compared to Canva and Adobe.\\n\\nAI tools save hours of manual work.\\n\\nIdeal for beginners with no design skills.\\n\\n\\n\\n\\n\\nCons\\n\\n\\nLimited advanced editing options.\\n\\nFree plan can feel restrictive if you’re doing lots of work.\\n\\n\\n\\nQuickpix AI is changing the game with features, pricing, and performance that make sense.  \\nIf you’re ready to up your design game without breaking the bank, this tool could be your next best move.  \\n\\n\\n\\nHow Quickpix AI Speeds Up Workflow\\n\\nTime is money.  \\nAnd Quickpix AI knows how to save you both.  \\n\\n\\n\\nAutomated Batch Processing\\n\\nNeed to edit 50 images at once?\\nQuickpix AI handles batch tasks like resizing, cropping, and enhancing in minutes.\\nThis is a massive win for creators juggling multiple deadlines.  \\n\\n\\n\\nReal-Time Editing Suggestions\\n\\nWhile you’re designing, the AI offers live tweaks.\\nSuggestions like “brighten this image” or “add text contrast” pop up as you work.\\nIt’s like having a design coach over your shoulder.  \\n\\n\\n\\nDrag-and-Drop Simplicity\\n\\nNo steep learning curve here.\\nQuickpix AI’s drag-and-drop functionality makes creating banners, thumbnails, or posts easy—even for non-designers.  \\n\\n\\n\\n\\nHow Does Quickpix AI Compare to Competitors?\\n\\nEveryone wants to know if Quickpix AI is better than Canva or Adobe.  \\nHere’s the breakdown:  \\n\\n\\n\\nQuickpix AI vs Canva\\n\\n\\n\\nCost: Quickpix AI’s Pro Plan undercuts Canva’s Pro pricing.\\n\\n\\nAI Features: Canva offers templates but lacks Quickpix AI’s automation tools.\\n\\n\\nLearning Curve: Both are beginner-friendly, but Quickpix AI’s suggestions make it simpler.\\n\\n\\n\\n\\n\\nQuickpix AI vs Adobe Photoshop\\n\\n\\n\\nCost: Photoshop is pricier, with a steeper subscription model.\\n\\n\\nAdvanced Editing: Adobe wins here, hands down, but most users won’t need those advanced features.\\n\\n\\nSpeed: Quickpix AI dominates, completing edits in a fraction of the time.\\n\\n\\n\\n\\n\\n\\nCan You Use Quickpix AI for Affiliate Marketing?\\n\\nYes, and it’s actually a smart move.  \\nHere’s how:  \\n\\n\\n\\nCreate Eye-Catching Content\\n\\nAffiliate marketing thrives on visuals.\\nQuickpix AI lets you make ads, banners, and social posts that grab attention.  \\n\\n\\n\\nPromote Faster with Templates\\n\\nDon’t waste time designing from scratch.\\nUse AI templates to launch affiliate campaigns faster.  \\n\\n\\n\\nDrive Engagement with Personalisation\\n\\nQuickpix AI’s tools let you customise visuals to match your audience.\\nMore clicks mean more commissions.  \\n\\n\\n\\n\\nQuickpix AI Use Cases: Real-World Examples\\n\\nHere’s where Quickpix AI shines.  \\n\\n\\n\\nSmall Business Owners\\n\\nIf you run a café or shop, Quickpix AI can whip up branded posts in no time.\\nAdd your logo, tweak colours, and you’re good to go.  \\n\\n\\n\\nFreelancers\\n\\nFreelancers can save hours on client projects.\\nUse the batch processing feature to deliver faster, and impress your clients with speed.  \\n\\n\\n\\nContent Creators\\n\\nYouTubers or Instagrammers can use Quickpix AI for thumbnails or posts that stand out.\\nBetter visuals equal better engagement.  \\n\\n\\n\\n\\nDoes Quickpix AI Support Collaboration?\\n\\nIf you’re part of a team, Quickpix AI has tools for you too.  \\n\\n\\nShared Libraries: Save templates and designs for everyone to access.\\n\\n\\nTeam Editing: Multiple users can work on a project simultaneously.\\n\\n\\nPermissions: Control who can edit, view, or approve designs.\\n\\n\\n\\nUnlocking Quickpix AI’s potential isn’t just about understanding its features—it’s about using it to save time, cut costs, and create effortlessly.  \\n\""
      ]
     },
     "execution_count": 72,
     "metadata": {},
     "output_type": "execute_result"
    }
   ],
   "source": [
    "article_text"
   ]
  },
  {
   "cell_type": "code",
   "execution_count": 73,
   "metadata": {},
   "outputs": [],
   "source": [
    "translation = text_translator(article_text)"
   ]
  },
  {
   "cell_type": "markdown",
   "metadata": {},
   "source": []
  },
  {
   "cell_type": "code",
   "execution_count": 75,
   "metadata": {},
   "outputs": [],
   "source": [
    "text_file = open(\"translation.txt\", \"w\")\n",
    "\n",
    "text_file.write(translation)\n",
    "\n",
    "text_file.close()"
   ]
  },
  {
   "cell_type": "code",
   "execution_count": null,
   "metadata": {},
   "outputs": [],
   "source": []
  }
 ],
 "metadata": {
  "kernelspec": {
   "display_name": "env-DIO",
   "language": "python",
   "name": "env-dio"
  },
  "language_info": {
   "codemirror_mode": {
    "name": "ipython",
    "version": 3
   },
   "file_extension": ".py",
   "mimetype": "text/x-python",
   "name": "python",
   "nbconvert_exporter": "python",
   "pygments_lexer": "ipython3",
   "version": "3.12.7"
  }
 },
 "nbformat": 4,
 "nbformat_minor": 2
}
